{
 "cells": [
  {
   "cell_type": "code",
   "execution_count": 1,
   "id": "535939bf-96b4-462d-9006-63121ff83177",
   "metadata": {},
   "outputs": [],
   "source": [
    "import pandas as pd\n",
    "from sklearn.model_selection import train_test_split\n",
    "from sklearn.ensemble import RandomForestClassifier\n",
    "from sklearn.metrics import classification_report, accuracy_score\n",
    "import matplotlib.pyplot as plt\n",
    "import seaborn as sns\n",
    "\n",
    "import itertools\n",
    "import random"
   ]
  },
  {
   "cell_type": "code",
   "execution_count": 2,
   "id": "dc12ebd2-1e8a-486d-9027-af71f17c8c15",
   "metadata": {},
   "outputs": [],
   "source": [
    "#IMPORTATION DES DONNEES"
   ]
  },
  {
   "cell_type": "code",
   "execution_count": 3,
   "id": "11bade12-9383-463a-9a40-614f115048a3",
   "metadata": {},
   "outputs": [
    {
     "data": {
      "text/html": [
       "<div>\n",
       "<style scoped>\n",
       "    .dataframe tbody tr th:only-of-type {\n",
       "        vertical-align: middle;\n",
       "    }\n",
       "\n",
       "    .dataframe tbody tr th {\n",
       "        vertical-align: top;\n",
       "    }\n",
       "\n",
       "    .dataframe thead th {\n",
       "        text-align: right;\n",
       "    }\n",
       "</style>\n",
       "<table border=\"1\" class=\"dataframe\">\n",
       "  <thead>\n",
       "    <tr style=\"text-align: right;\">\n",
       "      <th></th>\n",
       "      <th>Unnamed: 0</th>\n",
       "      <th>Employment Sector</th>\n",
       "      <th>Employment Background</th>\n",
       "      <th>Public Dealing</th>\n",
       "      <th>Degree</th>\n",
       "      <th>IdealNumberOfWorkdays</th>\n",
       "      <th>IdealYearlyIncome</th>\n",
       "    </tr>\n",
       "  </thead>\n",
       "  <tbody>\n",
       "    <tr>\n",
       "      <th>0</th>\n",
       "      <td>0</td>\n",
       "      <td>Private Sector</td>\n",
       "      <td>Technical</td>\n",
       "      <td>No</td>\n",
       "      <td>Yes</td>\n",
       "      <td>4.0</td>\n",
       "      <td>More Than 1500K</td>\n",
       "    </tr>\n",
       "    <tr>\n",
       "      <th>1</th>\n",
       "      <td>1</td>\n",
       "      <td>Private Sector</td>\n",
       "      <td>Art</td>\n",
       "      <td>No</td>\n",
       "      <td>Yes</td>\n",
       "      <td>4.0</td>\n",
       "      <td>600K-900K</td>\n",
       "    </tr>\n",
       "    <tr>\n",
       "      <th>2</th>\n",
       "      <td>2</td>\n",
       "      <td>Government Sector</td>\n",
       "      <td>Technical</td>\n",
       "      <td>No</td>\n",
       "      <td>Yes</td>\n",
       "      <td>6.0</td>\n",
       "      <td>900K-1200K</td>\n",
       "    </tr>\n",
       "    <tr>\n",
       "      <th>3</th>\n",
       "      <td>3</td>\n",
       "      <td>Government Sector</td>\n",
       "      <td>Non-Technical</td>\n",
       "      <td>Yes</td>\n",
       "      <td>Yes</td>\n",
       "      <td>4.0</td>\n",
       "      <td>900K-1200K</td>\n",
       "    </tr>\n",
       "    <tr>\n",
       "      <th>4</th>\n",
       "      <td>4</td>\n",
       "      <td>Private Sector</td>\n",
       "      <td>Technical</td>\n",
       "      <td>No</td>\n",
       "      <td>Yes</td>\n",
       "      <td>5.0</td>\n",
       "      <td>1200K-1500K</td>\n",
       "    </tr>\n",
       "    <tr>\n",
       "      <th>5</th>\n",
       "      <td>5</td>\n",
       "      <td>Private Sector</td>\n",
       "      <td>Non-Technical</td>\n",
       "      <td>No</td>\n",
       "      <td>Yes</td>\n",
       "      <td>5.0</td>\n",
       "      <td>600K-900K</td>\n",
       "    </tr>\n",
       "    <tr>\n",
       "      <th>6</th>\n",
       "      <td>6</td>\n",
       "      <td>Private Sector</td>\n",
       "      <td>Art</td>\n",
       "      <td>Yes</td>\n",
       "      <td>Yes</td>\n",
       "      <td>4.0</td>\n",
       "      <td>More Than 1500K</td>\n",
       "    </tr>\n",
       "    <tr>\n",
       "      <th>7</th>\n",
       "      <td>7</td>\n",
       "      <td>Private Sector</td>\n",
       "      <td>Non-Technical</td>\n",
       "      <td>Yes</td>\n",
       "      <td>Yes</td>\n",
       "      <td>4.0</td>\n",
       "      <td>900K-1200K</td>\n",
       "    </tr>\n",
       "    <tr>\n",
       "      <th>8</th>\n",
       "      <td>8</td>\n",
       "      <td>Private Sector</td>\n",
       "      <td>Non-Technical</td>\n",
       "      <td>No</td>\n",
       "      <td>Yes</td>\n",
       "      <td>5.0</td>\n",
       "      <td>600K-900K</td>\n",
       "    </tr>\n",
       "    <tr>\n",
       "      <th>9</th>\n",
       "      <td>9</td>\n",
       "      <td>Government Sector</td>\n",
       "      <td>Non-Technical</td>\n",
       "      <td>Yes</td>\n",
       "      <td>No</td>\n",
       "      <td>4.0</td>\n",
       "      <td>900K-1200K</td>\n",
       "    </tr>\n",
       "  </tbody>\n",
       "</table>\n",
       "</div>"
      ],
      "text/plain": [
       "   Unnamed: 0  Employment Sector Employment Background Public Dealing Degree  \\\n",
       "0           0     Private Sector             Technical             No    Yes   \n",
       "1           1     Private Sector                  Art             No    Yes    \n",
       "2           2  Government Sector             Technical             No    Yes   \n",
       "3           3  Government Sector         Non-Technical            Yes   Yes    \n",
       "4           4     Private Sector             Technical             No    Yes   \n",
       "5           5     Private Sector         Non-Technical            No    Yes    \n",
       "6           6     Private Sector                   Art            Yes    Yes   \n",
       "7           7     Private Sector         Non-Technical            Yes    Yes   \n",
       "8           8     Private Sector         Non-Technical            No    Yes    \n",
       "9           9  Government Sector         Non-Technical            Yes     No   \n",
       "\n",
       "   IdealNumberOfWorkdays IdealYearlyIncome  \n",
       "0                    4.0   More Than 1500K  \n",
       "1                    4.0         600K-900K  \n",
       "2                    6.0        900K-1200K  \n",
       "3                    4.0        900K-1200K  \n",
       "4                    5.0       1200K-1500K  \n",
       "5                    5.0         600K-900K  \n",
       "6                    4.0   More Than 1500K  \n",
       "7                    4.0        900K-1200K  \n",
       "8                    5.0         600K-900K  \n",
       "9                    4.0        900K-1200K  "
      ]
     },
     "execution_count": 3,
     "metadata": {},
     "output_type": "execute_result"
    }
   ],
   "source": [
    "# Charger les données depuis un fichier CSV (remplacez 'path_to_file' par le chemin de votre fichier)\n",
    "data = pd.read_csv('JobSurveyIndia.csv')\n",
    "data.head(10)"
   ]
  },
  {
   "cell_type": "code",
   "execution_count": 4,
   "id": "88a125c5-f939-463b-b038-ff8b2eecda08",
   "metadata": {},
   "outputs": [],
   "source": [
    "#EXPLORATION "
   ]
  },
  {
   "cell_type": "code",
   "execution_count": 5,
   "id": "4973d0bc-6303-46b6-afac-270a0062bc96",
   "metadata": {},
   "outputs": [
    {
     "name": "stdout",
     "output_type": "stream",
     "text": [
      "<class 'pandas.core.frame.DataFrame'>\n",
      "RangeIndex: 400 entries, 0 to 399\n",
      "Data columns (total 7 columns):\n",
      " #   Column                 Non-Null Count  Dtype  \n",
      "---  ------                 --------------  -----  \n",
      " 0   Unnamed: 0             400 non-null    int64  \n",
      " 1   Employment Sector      400 non-null    object \n",
      " 2   Employment Background  400 non-null    object \n",
      " 3   Public Dealing         400 non-null    object \n",
      " 4   Degree                 400 non-null    object \n",
      " 5   IdealNumberOfWorkdays  400 non-null    float64\n",
      " 6   IdealYearlyIncome      400 non-null    object \n",
      "dtypes: float64(1), int64(1), object(5)\n",
      "memory usage: 22.0+ KB\n"
     ]
    }
   ],
   "source": [
    "data.info()"
   ]
  },
  {
   "cell_type": "code",
   "execution_count": 6,
   "id": "94fffe25-bcc8-4203-9d87-0f1089ef2260",
   "metadata": {},
   "outputs": [
    {
     "name": "stdout",
     "output_type": "stream",
     "text": [
      "Nombre de doublons : 0\n"
     ]
    }
   ],
   "source": [
    "# Détection des doublons\n",
    "duplicates = data.duplicated().sum()\n",
    "print(f\"Nombre de doublons : {duplicates}\")"
   ]
  },
  {
   "cell_type": "code",
   "execution_count": 7,
   "id": "12a9f3ac-206f-4dec-837b-36911cca7b5b",
   "metadata": {},
   "outputs": [
    {
     "name": "stdout",
     "output_type": "stream",
     "text": [
      "Valeurs manquantes : \n",
      "Unnamed: 0               0\n",
      "Employment Sector        0\n",
      "Employment Background    0\n",
      "Public Dealing           0\n",
      "Degree                   0\n",
      "IdealNumberOfWorkdays    0\n",
      "IdealYearlyIncome        0\n",
      "dtype: int64\n"
     ]
    }
   ],
   "source": [
    "# Détection des valeurs manquantes\n",
    "missing_values = data.isnull().sum()\n",
    "print(f\"Valeurs manquantes : \\n{missing_values}\")"
   ]
  },
  {
   "cell_type": "code",
   "execution_count": 8,
   "id": "bb90e646-5b86-41c5-8662-34122b09a717",
   "metadata": {},
   "outputs": [],
   "source": [
    "# NETTOYAGE DES DONNEES"
   ]
  },
  {
   "cell_type": "code",
   "execution_count": 9,
   "id": "763cab8d-5080-43b0-91cc-cc4d0390bb08",
   "metadata": {},
   "outputs": [],
   "source": [
    "# Suppression des doublons\n",
    "data = data.drop_duplicates()"
   ]
  },
  {
   "cell_type": "code",
   "execution_count": 10,
   "id": "0345c6d3-9d4d-4f0b-8d30-9c109af214f4",
   "metadata": {},
   "outputs": [],
   "source": [
    "# Suppression ou imputation des valeurs manquantes (exemple avec imputation)\n",
    "# Séparation des colonnes numériques et non numériques\n",
    "numeric_columns = data.select_dtypes(include=['number']).columns\n",
    "categorical_columns = data.select_dtypes(include=['object']).columns\n"
   ]
  },
  {
   "cell_type": "code",
   "execution_count": 11,
   "id": "d87a72d6-7bc3-4978-a590-4829446227e6",
   "metadata": {},
   "outputs": [],
   "source": [
    "# Imputation des valeurs manquantes pour les colonnes numériques avec la médiane\n",
    "data[numeric_columns] = data[numeric_columns].fillna(data[numeric_columns].median())\n"
   ]
  },
  {
   "cell_type": "code",
   "execution_count": 12,
   "id": "644bd121-704b-4206-aa40-b9f5200153cb",
   "metadata": {},
   "outputs": [],
   "source": [
    "# Imputation des valeurs manquantes pour les colonnes non numériques avec le mode\n",
    "for column in categorical_columns:\n",
    "    data[column] = data[column].fillna(data[column].mode()[0])\n"
   ]
  },
  {
   "cell_type": "code",
   "execution_count": 13,
   "id": "3d23425a-8045-41bc-904a-8ee7cddedf66",
   "metadata": {},
   "outputs": [
    {
     "name": "stdout",
     "output_type": "stream",
     "text": [
      "Valeurs manquantes après imputation : \n",
      "Unnamed: 0               0\n",
      "Employment Sector        0\n",
      "Employment Background    0\n",
      "Public Dealing           0\n",
      "Degree                   0\n",
      "IdealNumberOfWorkdays    0\n",
      "IdealYearlyIncome        0\n",
      "dtype: int64\n"
     ]
    },
    {
     "data": {
      "text/html": [
       "<div>\n",
       "<style scoped>\n",
       "    .dataframe tbody tr th:only-of-type {\n",
       "        vertical-align: middle;\n",
       "    }\n",
       "\n",
       "    .dataframe tbody tr th {\n",
       "        vertical-align: top;\n",
       "    }\n",
       "\n",
       "    .dataframe thead th {\n",
       "        text-align: right;\n",
       "    }\n",
       "</style>\n",
       "<table border=\"1\" class=\"dataframe\">\n",
       "  <thead>\n",
       "    <tr style=\"text-align: right;\">\n",
       "      <th></th>\n",
       "      <th>Unnamed: 0</th>\n",
       "      <th>Employment Sector</th>\n",
       "      <th>Employment Background</th>\n",
       "      <th>Public Dealing</th>\n",
       "      <th>Degree</th>\n",
       "      <th>IdealNumberOfWorkdays</th>\n",
       "      <th>IdealYearlyIncome</th>\n",
       "    </tr>\n",
       "  </thead>\n",
       "  <tbody>\n",
       "    <tr>\n",
       "      <th>0</th>\n",
       "      <td>0</td>\n",
       "      <td>Private Sector</td>\n",
       "      <td>Technical</td>\n",
       "      <td>No</td>\n",
       "      <td>Yes</td>\n",
       "      <td>4.0</td>\n",
       "      <td>More Than 1500K</td>\n",
       "    </tr>\n",
       "    <tr>\n",
       "      <th>1</th>\n",
       "      <td>1</td>\n",
       "      <td>Private Sector</td>\n",
       "      <td>Art</td>\n",
       "      <td>No</td>\n",
       "      <td>Yes</td>\n",
       "      <td>4.0</td>\n",
       "      <td>600K-900K</td>\n",
       "    </tr>\n",
       "    <tr>\n",
       "      <th>2</th>\n",
       "      <td>2</td>\n",
       "      <td>Government Sector</td>\n",
       "      <td>Technical</td>\n",
       "      <td>No</td>\n",
       "      <td>Yes</td>\n",
       "      <td>6.0</td>\n",
       "      <td>900K-1200K</td>\n",
       "    </tr>\n",
       "    <tr>\n",
       "      <th>3</th>\n",
       "      <td>3</td>\n",
       "      <td>Government Sector</td>\n",
       "      <td>Non-Technical</td>\n",
       "      <td>Yes</td>\n",
       "      <td>Yes</td>\n",
       "      <td>4.0</td>\n",
       "      <td>900K-1200K</td>\n",
       "    </tr>\n",
       "    <tr>\n",
       "      <th>4</th>\n",
       "      <td>4</td>\n",
       "      <td>Private Sector</td>\n",
       "      <td>Technical</td>\n",
       "      <td>No</td>\n",
       "      <td>Yes</td>\n",
       "      <td>5.0</td>\n",
       "      <td>1200K-1500K</td>\n",
       "    </tr>\n",
       "  </tbody>\n",
       "</table>\n",
       "</div>"
      ],
      "text/plain": [
       "   Unnamed: 0  Employment Sector Employment Background Public Dealing Degree  \\\n",
       "0           0     Private Sector             Technical             No    Yes   \n",
       "1           1     Private Sector                  Art             No    Yes    \n",
       "2           2  Government Sector             Technical             No    Yes   \n",
       "3           3  Government Sector         Non-Technical            Yes   Yes    \n",
       "4           4     Private Sector             Technical             No    Yes   \n",
       "\n",
       "   IdealNumberOfWorkdays IdealYearlyIncome  \n",
       "0                    4.0   More Than 1500K  \n",
       "1                    4.0         600K-900K  \n",
       "2                    6.0        900K-1200K  \n",
       "3                    4.0        900K-1200K  \n",
       "4                    5.0       1200K-1500K  "
      ]
     },
     "execution_count": 13,
     "metadata": {},
     "output_type": "execute_result"
    }
   ],
   "source": [
    "# Vérification des valeurs manquantes après imputation\n",
    "missing_values_post = data.isnull().sum()\n",
    "print(f\"Valeurs manquantes après imputation : \\n{missing_values_post}\")\n",
    "data.head()"
   ]
  },
  {
   "cell_type": "code",
   "execution_count": 14,
   "id": "b8622144-2b16-461e-abed-bd438362ad6c",
   "metadata": {},
   "outputs": [
    {
     "data": {
      "text/html": [
       "<div>\n",
       "<style scoped>\n",
       "    .dataframe tbody tr th:only-of-type {\n",
       "        vertical-align: middle;\n",
       "    }\n",
       "\n",
       "    .dataframe tbody tr th {\n",
       "        vertical-align: top;\n",
       "    }\n",
       "\n",
       "    .dataframe thead th {\n",
       "        text-align: right;\n",
       "    }\n",
       "</style>\n",
       "<table border=\"1\" class=\"dataframe\">\n",
       "  <thead>\n",
       "    <tr style=\"text-align: right;\">\n",
       "      <th></th>\n",
       "      <th>Employment Sector</th>\n",
       "      <th>Employment Background</th>\n",
       "      <th>Public Dealing</th>\n",
       "      <th>Degree</th>\n",
       "      <th>IdealNumberOfWorkdays</th>\n",
       "      <th>IdealYearlyIncome</th>\n",
       "    </tr>\n",
       "  </thead>\n",
       "  <tbody>\n",
       "    <tr>\n",
       "      <th>0</th>\n",
       "      <td>Private Sector</td>\n",
       "      <td>Technical</td>\n",
       "      <td>No</td>\n",
       "      <td>Yes</td>\n",
       "      <td>4.0</td>\n",
       "      <td>More Than 1500K</td>\n",
       "    </tr>\n",
       "    <tr>\n",
       "      <th>1</th>\n",
       "      <td>Private Sector</td>\n",
       "      <td>Art</td>\n",
       "      <td>No</td>\n",
       "      <td>Yes</td>\n",
       "      <td>4.0</td>\n",
       "      <td>600K-900K</td>\n",
       "    </tr>\n",
       "    <tr>\n",
       "      <th>2</th>\n",
       "      <td>Government Sector</td>\n",
       "      <td>Technical</td>\n",
       "      <td>No</td>\n",
       "      <td>Yes</td>\n",
       "      <td>6.0</td>\n",
       "      <td>900K-1200K</td>\n",
       "    </tr>\n",
       "    <tr>\n",
       "      <th>3</th>\n",
       "      <td>Government Sector</td>\n",
       "      <td>Non-Technical</td>\n",
       "      <td>Yes</td>\n",
       "      <td>Yes</td>\n",
       "      <td>4.0</td>\n",
       "      <td>900K-1200K</td>\n",
       "    </tr>\n",
       "    <tr>\n",
       "      <th>4</th>\n",
       "      <td>Private Sector</td>\n",
       "      <td>Technical</td>\n",
       "      <td>No</td>\n",
       "      <td>Yes</td>\n",
       "      <td>5.0</td>\n",
       "      <td>1200K-1500K</td>\n",
       "    </tr>\n",
       "  </tbody>\n",
       "</table>\n",
       "</div>"
      ],
      "text/plain": [
       "   Employment Sector Employment Background Public Dealing Degree  \\\n",
       "0     Private Sector             Technical             No    Yes   \n",
       "1     Private Sector                  Art             No    Yes    \n",
       "2  Government Sector             Technical             No    Yes   \n",
       "3  Government Sector         Non-Technical            Yes   Yes    \n",
       "4     Private Sector             Technical             No    Yes   \n",
       "\n",
       "   IdealNumberOfWorkdays IdealYearlyIncome  \n",
       "0                    4.0   More Than 1500K  \n",
       "1                    4.0         600K-900K  \n",
       "2                    6.0        900K-1200K  \n",
       "3                    4.0        900K-1200K  \n",
       "4                    5.0       1200K-1500K  "
      ]
     },
     "execution_count": 14,
     "metadata": {},
     "output_type": "execute_result"
    }
   ],
   "source": [
    "# Suppression de la colonne 'Unnamed: 0' car elle n'est pas pertinente\n",
    "data = data.drop(columns=['Unnamed: 0'])\n",
    "data.head()"
   ]
  },
  {
   "cell_type": "code",
   "execution_count": 15,
   "id": "50a84e2e-bb9d-450c-a198-6c49bf1dccee",
   "metadata": {},
   "outputs": [
    {
     "name": "stdout",
     "output_type": "stream",
     "text": [
      "<class 'pandas.core.frame.DataFrame'>\n",
      "RangeIndex: 400 entries, 0 to 399\n",
      "Data columns (total 6 columns):\n",
      " #   Column                 Non-Null Count  Dtype   \n",
      "---  ------                 --------------  -----   \n",
      " 0   Employment Sector      400 non-null    category\n",
      " 1   Employment Background  400 non-null    category\n",
      " 2   Public Dealing         400 non-null    category\n",
      " 3   Degree                 400 non-null    category\n",
      " 4   IdealNumberOfWorkdays  400 non-null    float64 \n",
      " 5   IdealYearlyIncome      400 non-null    category\n",
      "dtypes: category(5), float64(1)\n",
      "memory usage: 6.0 KB\n"
     ]
    }
   ],
   "source": [
    "# Conversion des colonnes catégorielles en type 'category'\n",
    "categorical_columns = ['Employment Sector', 'Employment Background', 'Public Dealing', 'Degree', 'IdealYearlyIncome']\n",
    "for column in categorical_columns:\n",
    "    data[column] = data[column].astype('category')\n",
    "\n",
    "data.info()"
   ]
  },
  {
   "cell_type": "code",
   "execution_count": 16,
   "id": "c85a6ec3-1492-4503-9cac-35cd3efb6690",
   "metadata": {},
   "outputs": [],
   "source": [
    "# ENCODAGE DES VARIABLES"
   ]
  },
  {
   "cell_type": "code",
   "execution_count": 17,
   "id": "91e942dd-e128-4aef-a4f8-896d40d3e887",
   "metadata": {},
   "outputs": [
    {
     "data": {
      "text/html": [
       "<div>\n",
       "<style scoped>\n",
       "    .dataframe tbody tr th:only-of-type {\n",
       "        vertical-align: middle;\n",
       "    }\n",
       "\n",
       "    .dataframe tbody tr th {\n",
       "        vertical-align: top;\n",
       "    }\n",
       "\n",
       "    .dataframe thead th {\n",
       "        text-align: right;\n",
       "    }\n",
       "</style>\n",
       "<table border=\"1\" class=\"dataframe\">\n",
       "  <thead>\n",
       "    <tr style=\"text-align: right;\">\n",
       "      <th></th>\n",
       "      <th>IdealNumberOfWorkdays</th>\n",
       "      <th>Employment Sector_Government Sector</th>\n",
       "      <th>Employment Sector_Private Sector</th>\n",
       "      <th>Employment Background_Art</th>\n",
       "      <th>Employment Background_Non-Technical</th>\n",
       "      <th>Employment Background_Technical</th>\n",
       "      <th>Public Dealing_No</th>\n",
       "      <th>Public Dealing_Yes</th>\n",
       "      <th>Degree_Yes</th>\n",
       "      <th>Degree_Yes</th>\n",
       "      <th>IdealYearlyIncome_600K-900K</th>\n",
       "      <th>IdealYearlyIncome_900K-1200K</th>\n",
       "      <th>IdealYearlyIncome_More Than 1500K</th>\n",
       "    </tr>\n",
       "  </thead>\n",
       "  <tbody>\n",
       "    <tr>\n",
       "      <th>0</th>\n",
       "      <td>4.0</td>\n",
       "      <td>False</td>\n",
       "      <td>True</td>\n",
       "      <td>False</td>\n",
       "      <td>False</td>\n",
       "      <td>True</td>\n",
       "      <td>False</td>\n",
       "      <td>False</td>\n",
       "      <td>True</td>\n",
       "      <td>False</td>\n",
       "      <td>False</td>\n",
       "      <td>False</td>\n",
       "      <td>True</td>\n",
       "    </tr>\n",
       "    <tr>\n",
       "      <th>1</th>\n",
       "      <td>4.0</td>\n",
       "      <td>False</td>\n",
       "      <td>True</td>\n",
       "      <td>True</td>\n",
       "      <td>False</td>\n",
       "      <td>False</td>\n",
       "      <td>True</td>\n",
       "      <td>False</td>\n",
       "      <td>False</td>\n",
       "      <td>True</td>\n",
       "      <td>True</td>\n",
       "      <td>False</td>\n",
       "      <td>False</td>\n",
       "    </tr>\n",
       "    <tr>\n",
       "      <th>2</th>\n",
       "      <td>6.0</td>\n",
       "      <td>True</td>\n",
       "      <td>False</td>\n",
       "      <td>False</td>\n",
       "      <td>False</td>\n",
       "      <td>True</td>\n",
       "      <td>False</td>\n",
       "      <td>False</td>\n",
       "      <td>True</td>\n",
       "      <td>False</td>\n",
       "      <td>False</td>\n",
       "      <td>True</td>\n",
       "      <td>False</td>\n",
       "    </tr>\n",
       "    <tr>\n",
       "      <th>3</th>\n",
       "      <td>4.0</td>\n",
       "      <td>True</td>\n",
       "      <td>False</td>\n",
       "      <td>False</td>\n",
       "      <td>True</td>\n",
       "      <td>False</td>\n",
       "      <td>False</td>\n",
       "      <td>True</td>\n",
       "      <td>False</td>\n",
       "      <td>True</td>\n",
       "      <td>False</td>\n",
       "      <td>True</td>\n",
       "      <td>False</td>\n",
       "    </tr>\n",
       "    <tr>\n",
       "      <th>4</th>\n",
       "      <td>5.0</td>\n",
       "      <td>False</td>\n",
       "      <td>True</td>\n",
       "      <td>False</td>\n",
       "      <td>False</td>\n",
       "      <td>True</td>\n",
       "      <td>False</td>\n",
       "      <td>False</td>\n",
       "      <td>True</td>\n",
       "      <td>False</td>\n",
       "      <td>False</td>\n",
       "      <td>False</td>\n",
       "      <td>False</td>\n",
       "    </tr>\n",
       "  </tbody>\n",
       "</table>\n",
       "</div>"
      ],
      "text/plain": [
       "   IdealNumberOfWorkdays  Employment Sector_Government Sector  \\\n",
       "0                    4.0                                False   \n",
       "1                    4.0                                False   \n",
       "2                    6.0                                 True   \n",
       "3                    4.0                                 True   \n",
       "4                    5.0                                False   \n",
       "\n",
       "   Employment Sector_Private Sector  Employment Background_Art   \\\n",
       "0                              True                       False   \n",
       "1                              True                        True   \n",
       "2                             False                       False   \n",
       "3                             False                       False   \n",
       "4                              True                       False   \n",
       "\n",
       "   Employment Background_Non-Technical  Employment Background_Technical  \\\n",
       "0                                False                             True   \n",
       "1                                False                            False   \n",
       "2                                False                             True   \n",
       "3                                 True                            False   \n",
       "4                                False                             True   \n",
       "\n",
       "   Public Dealing_No   Public Dealing_Yes  Degree_Yes  Degree_Yes   \\\n",
       "0               False               False        True        False   \n",
       "1                True               False       False         True   \n",
       "2               False               False        True        False   \n",
       "3               False                True       False         True   \n",
       "4               False               False        True        False   \n",
       "\n",
       "   IdealYearlyIncome_600K-900K  IdealYearlyIncome_900K-1200K  \\\n",
       "0                        False                         False   \n",
       "1                         True                         False   \n",
       "2                        False                          True   \n",
       "3                        False                          True   \n",
       "4                        False                         False   \n",
       "\n",
       "   IdealYearlyIncome_More Than 1500K  \n",
       "0                               True  \n",
       "1                              False  \n",
       "2                              False  \n",
       "3                              False  \n",
       "4                              False  "
      ]
     },
     "execution_count": 17,
     "metadata": {},
     "output_type": "execute_result"
    }
   ],
   "source": [
    "# Encodage des variables catégorielles\n",
    "data_encoded = pd.get_dummies(data, drop_first=True)\n",
    "data_encoded.head()"
   ]
  },
  {
   "cell_type": "code",
   "execution_count": 18,
   "id": "f5769b68-682c-4822-bca8-e438f6c77476",
   "metadata": {},
   "outputs": [],
   "source": [
    "# CREATION ET VALIDATION DU MODELE"
   ]
  },
  {
   "cell_type": "code",
   "execution_count": 19,
   "id": "a005de6f-d87a-436e-a78f-52a9b750deeb",
   "metadata": {},
   "outputs": [],
   "source": [
    "# Séparation des données en variables d'entrée (features) et variable cible (target)\n",
    "# Esorina anaty dataset le variable à prédire\n",
    "X = data_encoded.drop(columns=[\n",
    "    'IdealYearlyIncome_More Than 1500K',\n",
    "    'IdealYearlyIncome_900K-1200K', \n",
    "    'IdealYearlyIncome_600K-900K'\n",
    "])\n",
    "y = data['IdealYearlyIncome']"
   ]
  },
  {
   "cell_type": "code",
   "execution_count": 20,
   "id": "7d79cb51-7720-4abf-b3d1-6e73e5f68d63",
   "metadata": {},
   "outputs": [],
   "source": [
    "# Division du dataset en jeux d'entraînement et de test 80% 20%\n",
    "X_train, X_test, y_train, y_test = train_test_split(X, y, test_size=0.2, random_state=42)\n"
   ]
  },
  {
   "cell_type": "code",
   "execution_count": 21,
   "id": "7dd07427-4ae2-461a-873e-91c3f2a54b25",
   "metadata": {},
   "outputs": [],
   "source": [
    "# Choix de l'algorithme de machine learning (Random Forest Classifier)\n",
    "model = RandomForestClassifier(random_state=42)"
   ]
  },
  {
   "cell_type": "code",
   "execution_count": 22,
   "id": "e522ee43-946b-49b0-b3aa-ed3acc9c46f7",
   "metadata": {},
   "outputs": [
    {
     "data": {
      "text/html": [
       "<style>#sk-container-id-1 {color: black;background-color: white;}#sk-container-id-1 pre{padding: 0;}#sk-container-id-1 div.sk-toggleable {background-color: white;}#sk-container-id-1 label.sk-toggleable__label {cursor: pointer;display: block;width: 100%;margin-bottom: 0;padding: 0.3em;box-sizing: border-box;text-align: center;}#sk-container-id-1 label.sk-toggleable__label-arrow:before {content: \"▸\";float: left;margin-right: 0.25em;color: #696969;}#sk-container-id-1 label.sk-toggleable__label-arrow:hover:before {color: black;}#sk-container-id-1 div.sk-estimator:hover label.sk-toggleable__label-arrow:before {color: black;}#sk-container-id-1 div.sk-toggleable__content {max-height: 0;max-width: 0;overflow: hidden;text-align: left;background-color: #f0f8ff;}#sk-container-id-1 div.sk-toggleable__content pre {margin: 0.2em;color: black;border-radius: 0.25em;background-color: #f0f8ff;}#sk-container-id-1 input.sk-toggleable__control:checked~div.sk-toggleable__content {max-height: 200px;max-width: 100%;overflow: auto;}#sk-container-id-1 input.sk-toggleable__control:checked~label.sk-toggleable__label-arrow:before {content: \"▾\";}#sk-container-id-1 div.sk-estimator input.sk-toggleable__control:checked~label.sk-toggleable__label {background-color: #d4ebff;}#sk-container-id-1 div.sk-label input.sk-toggleable__control:checked~label.sk-toggleable__label {background-color: #d4ebff;}#sk-container-id-1 input.sk-hidden--visually {border: 0;clip: rect(1px 1px 1px 1px);clip: rect(1px, 1px, 1px, 1px);height: 1px;margin: -1px;overflow: hidden;padding: 0;position: absolute;width: 1px;}#sk-container-id-1 div.sk-estimator {font-family: monospace;background-color: #f0f8ff;border: 1px dotted black;border-radius: 0.25em;box-sizing: border-box;margin-bottom: 0.5em;}#sk-container-id-1 div.sk-estimator:hover {background-color: #d4ebff;}#sk-container-id-1 div.sk-parallel-item::after {content: \"\";width: 100%;border-bottom: 1px solid gray;flex-grow: 1;}#sk-container-id-1 div.sk-label:hover label.sk-toggleable__label {background-color: #d4ebff;}#sk-container-id-1 div.sk-serial::before {content: \"\";position: absolute;border-left: 1px solid gray;box-sizing: border-box;top: 0;bottom: 0;left: 50%;z-index: 0;}#sk-container-id-1 div.sk-serial {display: flex;flex-direction: column;align-items: center;background-color: white;padding-right: 0.2em;padding-left: 0.2em;position: relative;}#sk-container-id-1 div.sk-item {position: relative;z-index: 1;}#sk-container-id-1 div.sk-parallel {display: flex;align-items: stretch;justify-content: center;background-color: white;position: relative;}#sk-container-id-1 div.sk-item::before, #sk-container-id-1 div.sk-parallel-item::before {content: \"\";position: absolute;border-left: 1px solid gray;box-sizing: border-box;top: 0;bottom: 0;left: 50%;z-index: -1;}#sk-container-id-1 div.sk-parallel-item {display: flex;flex-direction: column;z-index: 1;position: relative;background-color: white;}#sk-container-id-1 div.sk-parallel-item:first-child::after {align-self: flex-end;width: 50%;}#sk-container-id-1 div.sk-parallel-item:last-child::after {align-self: flex-start;width: 50%;}#sk-container-id-1 div.sk-parallel-item:only-child::after {width: 0;}#sk-container-id-1 div.sk-dashed-wrapped {border: 1px dashed gray;margin: 0 0.4em 0.5em 0.4em;box-sizing: border-box;padding-bottom: 0.4em;background-color: white;}#sk-container-id-1 div.sk-label label {font-family: monospace;font-weight: bold;display: inline-block;line-height: 1.2em;}#sk-container-id-1 div.sk-label-container {text-align: center;}#sk-container-id-1 div.sk-container {/* jupyter's `normalize.less` sets `[hidden] { display: none; }` but bootstrap.min.css set `[hidden] { display: none !important; }` so we also need the `!important` here to be able to override the default hidden behavior on the sphinx rendered scikit-learn.org. See: https://github.com/scikit-learn/scikit-learn/issues/21755 */display: inline-block !important;position: relative;}#sk-container-id-1 div.sk-text-repr-fallback {display: none;}</style><div id=\"sk-container-id-1\" class=\"sk-top-container\"><div class=\"sk-text-repr-fallback\"><pre>RandomForestClassifier(random_state=42)</pre><b>In a Jupyter environment, please rerun this cell to show the HTML representation or trust the notebook. <br />On GitHub, the HTML representation is unable to render, please try loading this page with nbviewer.org.</b></div><div class=\"sk-container\" hidden><div class=\"sk-item\"><div class=\"sk-estimator sk-toggleable\"><input class=\"sk-toggleable__control sk-hidden--visually\" id=\"sk-estimator-id-1\" type=\"checkbox\" checked><label for=\"sk-estimator-id-1\" class=\"sk-toggleable__label sk-toggleable__label-arrow\">RandomForestClassifier</label><div class=\"sk-toggleable__content\"><pre>RandomForestClassifier(random_state=42)</pre></div></div></div></div></div>"
      ],
      "text/plain": [
       "RandomForestClassifier(random_state=42)"
      ]
     },
     "execution_count": 22,
     "metadata": {},
     "output_type": "execute_result"
    }
   ],
   "source": [
    "# Entraînement du modèle\n",
    "model.fit(X_train, y_train)"
   ]
  },
  {
   "cell_type": "code",
   "execution_count": 23,
   "id": "d74e88ea-f113-444a-bcb2-4a1428c23ef9",
   "metadata": {},
   "outputs": [],
   "source": [
    "# Prédictions sur le jeu de test\n",
    "y_pred = model.predict(X_test)"
   ]
  },
  {
   "cell_type": "code",
   "execution_count": 24,
   "id": "8c46c8a8-8c1a-4b80-a1ba-48865ba9be81",
   "metadata": {},
   "outputs": [
    {
     "name": "stdout",
     "output_type": "stream",
     "text": [
      "Précision/ Accuracy: 0.825\n",
      "Rapport de Classification :\n",
      "                 precision    recall  f1-score   support\n",
      "\n",
      "    1200K-1500K       0.87      0.81      0.84        16\n",
      "      600K-900K       1.00      0.85      0.92        13\n",
      "     900K-1200K       0.76      0.94      0.84        34\n",
      "More Than 1500K       0.83      0.59      0.69        17\n",
      "\n",
      "       accuracy                           0.82        80\n",
      "      macro avg       0.87      0.80      0.82        80\n",
      "   weighted avg       0.84      0.82      0.82        80\n",
      "\n"
     ]
    }
   ],
   "source": [
    "# Évaluation du modèle\n",
    "accuracy = accuracy_score(y_test, y_pred)\n",
    "report = classification_report(y_test, y_pred)\n",
    "\n",
    "print(f\"Précision/ Accuracy: {accuracy}\")\n",
    "print(f\"Rapport de Classification :\\n{report}\")"
   ]
  },
  {
   "cell_type": "code",
   "execution_count": 25,
   "id": "d584b821-b532-42f4-9958-d042f0774f14",
   "metadata": {},
   "outputs": [],
   "source": [
    "# TEST DE PREDICTION AVEC DONNÉES EXTERIEUR"
   ]
  },
  {
   "cell_type": "code",
   "execution_count": 26,
   "id": "8d3a5a28-8c89-477b-80b9-11e26cefeb66",
   "metadata": {},
   "outputs": [
    {
     "data": {
      "text/html": [
       "<div>\n",
       "<style scoped>\n",
       "    .dataframe tbody tr th:only-of-type {\n",
       "        vertical-align: middle;\n",
       "    }\n",
       "\n",
       "    .dataframe tbody tr th {\n",
       "        vertical-align: top;\n",
       "    }\n",
       "\n",
       "    .dataframe thead th {\n",
       "        text-align: right;\n",
       "    }\n",
       "</style>\n",
       "<table border=\"1\" class=\"dataframe\">\n",
       "  <thead>\n",
       "    <tr style=\"text-align: right;\">\n",
       "      <th></th>\n",
       "      <th>Employment Sector</th>\n",
       "      <th>Employment Background</th>\n",
       "      <th>Public Dealing</th>\n",
       "      <th>Degree</th>\n",
       "    </tr>\n",
       "  </thead>\n",
       "  <tbody>\n",
       "    <tr>\n",
       "      <th>0</th>\n",
       "      <td>Private Sector</td>\n",
       "      <td>Technical</td>\n",
       "      <td>Yes</td>\n",
       "      <td>MBA</td>\n",
       "    </tr>\n",
       "    <tr>\n",
       "      <th>1</th>\n",
       "      <td>Government Sector</td>\n",
       "      <td>Non-Technical</td>\n",
       "      <td>No</td>\n",
       "      <td>BSc</td>\n",
       "    </tr>\n",
       "  </tbody>\n",
       "</table>\n",
       "</div>"
      ],
      "text/plain": [
       "   Employment Sector Employment Background Public Dealing Degree\n",
       "0     Private Sector             Technical            Yes    MBA\n",
       "1  Government Sector         Non-Technical             No    BSc"
      ]
     },
     "execution_count": 26,
     "metadata": {},
     "output_type": "execute_result"
    }
   ],
   "source": [
    "# Exemple de nouvelles données\n",
    "new_data = pd.DataFrame({\n",
    "    'Employment Sector': ['Private Sector', 'Government Sector'],\n",
    "    'Employment Background': ['Technical', 'Non-Technical'],\n",
    "    'Public Dealing': ['Yes', 'No'],\n",
    "    'Degree': ['MBA', 'BSc']\n",
    "})\n",
    "new_data.head()"
   ]
  },
  {
   "cell_type": "code",
   "execution_count": 27,
   "id": "e3a9cead-867b-4b30-8bfc-570cabe8f880",
   "metadata": {},
   "outputs": [],
   "source": [
    "# Prétraitement des nouvelles données\n",
    "new_data_encoded = pd.get_dummies(new_data, drop_first=True)"
   ]
  },
  {
   "cell_type": "code",
   "execution_count": 28,
   "id": "9f858834-ffea-46f2-8421-825667b5e4c1",
   "metadata": {},
   "outputs": [],
   "source": [
    "# Aligner les nouvelles données avec les colonnes d'entraînement\n",
    "new_data_encoded = new_data_encoded.reindex(columns=X_train.columns, fill_value=0)"
   ]
  },
  {
   "cell_type": "code",
   "execution_count": 29,
   "id": "cbb46945-252f-44de-a9f6-03e76afd5545",
   "metadata": {},
   "outputs": [
    {
     "name": "stdout",
     "output_type": "stream",
     "text": [
      "['More Than 1500K' '900K-1200K']\n"
     ]
    }
   ],
   "source": [
    "# Prédictions sur les nouvelles données\n",
    "new_predictions = model.predict(new_data_encoded)\n",
    "# Afficher les prédictions\n",
    "print(new_predictions)"
   ]
  },
  {
   "cell_type": "code",
   "execution_count": 30,
   "id": "8e50ec6c-0dac-42c4-a2cd-6ccb899ecfd7",
   "metadata": {},
   "outputs": [
    {
     "data": {
      "image/png": "[encoded data removed]",
      "text/plain": [
       "<Figure size 1000x600 with 1 Axes>"
      ]
     },
     "metadata": {},
     "output_type": "display_data"
    }
   ],
   "source": [
    "# Afficher un histogramme\n",
    "plt.figure(figsize=(10, 6))\n",
    "sns.histplot(data=new_predictions, kde=True, bins=30)\n",
    "plt.title('Distribution de IdealYearlyIncome')\n",
    "plt.xlabel('IdealYearlyIncome')\n",
    "plt.ylabel('Fréquence')\n",
    "plt.show()"
   ]
  },
  {
   "cell_type": "code",
   "execution_count": 31,
   "id": "309b85ec-5fa2-412b-8e6d-94cb24098e9d",
   "metadata": {},
   "outputs": [
    {
     "name": "stdout",
     "output_type": "stream",
     "text": [
      "209    More Than 1500K\n",
      "280         900K-1200K\n",
      "33         1200K-1500K\n",
      "210          600K-900K\n",
      "93          900K-1200K\n",
      "            ...       \n",
      "246         900K-1200K\n",
      "227         900K-1200K\n",
      "369         900K-1200K\n",
      "176          600K-900K\n",
      "289        1200K-1500K\n",
      "Name: IdealYearlyIncome, Length: 80, dtype: category\n",
      "Categories (4, object): ['1200K-1500K', '600K-900K', '900K-1200K', 'More Than 1500K']\n",
      "['More Than 1500K' '900K-1200K' '1200K-1500K' '600K-900K' '900K-1200K'\n",
      " '600K-900K' '900K-1200K' '900K-1200K' '900K-1200K' 'More Than 1500K'\n",
      " '900K-1200K' '900K-1200K' '1200K-1500K' '900K-1200K' 'More Than 1500K'\n",
      " '900K-1200K' '600K-900K' '900K-1200K' '600K-900K' '900K-1200K'\n",
      " 'More Than 1500K' 'More Than 1500K' '900K-1200K' '600K-900K'\n",
      " 'More Than 1500K' '900K-1200K' '1200K-1500K' '900K-1200K' '900K-1200K'\n",
      " '900K-1200K' '600K-900K' '600K-900K' '600K-900K' '1200K-1500K'\n",
      " '900K-1200K' '900K-1200K' '900K-1200K' '900K-1200K' '900K-1200K'\n",
      " '1200K-1500K' '1200K-1500K' '900K-1200K' '900K-1200K' '900K-1200K'\n",
      " '900K-1200K' '900K-1200K' '600K-900K' '1200K-1500K' 'More Than 1500K'\n",
      " '900K-1200K' '1200K-1500K' 'More Than 1500K' '900K-1200K' '1200K-1500K'\n",
      " '900K-1200K' '900K-1200K' '900K-1200K' '900K-1200K' '1200K-1500K'\n",
      " 'More Than 1500K' '600K-900K' '900K-1200K' 'More Than 1500K' '900K-1200K'\n",
      " '900K-1200K' '1200K-1500K' '900K-1200K' 'More Than 1500K' '1200K-1500K'\n",
      " 'More Than 1500K' '900K-1200K' '1200K-1500K' '600K-900K' '900K-1200K'\n",
      " '900K-1200K' '900K-1200K' '1200K-1500K' '900K-1200K' '900K-1200K'\n",
      " '1200K-1500K']\n"
     ]
    }
   ],
   "source": [
    "# PRINT Y\n",
    "print(y_test)\n",
    "print(y_pred)"
   ]
  },
  {
   "cell_type": "code",
   "execution_count": 32,
   "id": "b0af0789-f20d-4c5f-bdc7-f65b9bbda905",
   "metadata": {},
   "outputs": [
    {
     "data": {
      "image/png": "[encoded data removed]",
      "text/plain": [
       "<Figure size 1000x600 with 1 Axes>"
      ]
     },
     "metadata": {},
     "output_type": "display_data"
    }
   ],
   "source": [
    "plt.figure(figsize=(10, 6))\n",
    "sns.histplot(data=y_pred, kde=True, bins=30)\n",
    "plt.title('Distribution de IdealYearlyIncome')\n",
    "plt.xlabel('IdealYearlyIncome')\n",
    "plt.ylabel('Fréquence')\n",
    "plt.show()"
   ]
  },
  {
   "cell_type": "code",
   "execution_count": 33,
   "id": "acf779f8-12b6-4239-87cb-66d4c32ab294",
   "metadata": {},
   "outputs": [],
   "source": [
    "# AFFICHAGE DES Y_BASE"
   ]
  },
  {
   "cell_type": "code",
   "execution_count": 34,
   "id": "e7a28819-6295-42b8-84d3-438875d83f82",
   "metadata": {},
   "outputs": [
    {
     "data": {
      "image/png": "[encoded data removed]",
      "text/plain": [
       "<Figure size 1000x600 with 1 Axes>"
      ]
     },
     "metadata": {},
     "output_type": "display_data"
    }
   ],
   "source": [
    "# Afficher un histogramme\n",
    "plt.figure(figsize=(10, 6))\n",
    "sns.histplot(data['IdealYearlyIncome'], kde=True, bins=30)\n",
    "plt.title('Distribution de IdealYearlyIncome')\n",
    "plt.xlabel('IdealYearlyIncome')\n",
    "plt.ylabel('Fréquence')\n",
    "plt.show()"
   ]
  },
  {
   "cell_type": "code",
   "execution_count": 35,
   "id": "9f3f9a7f-4371-4cda-9995-34938742f69a",
   "metadata": {},
   "outputs": [],
   "source": [
    "# NAMORONA DATASET BOBAKA VAOVAO MBA AHITANA NY PRECISION "
   ]
  },
  {
   "cell_type": "code",
   "execution_count": 36,
   "id": "5ff23669-2694-4166-879b-15e57c93fbd6",
   "metadata": {},
   "outputs": [],
   "source": [
    "# Définir les différentes catégories pour chaque colonne\n",
    "employment_sectors = ['Private Sector', 'Government Sector']\n",
    "employment_backgrounds = ['Technical', 'Non-Technical']\n",
    "public_dealings = ['Yes', 'No']\n",
    "degrees = ['MBA', 'BSc']"
   ]
  },
  {
   "cell_type": "code",
   "execution_count": 37,
   "id": "c50c1e0f-0bff-4fba-ac60-37986cc369bf",
   "metadata": {},
   "outputs": [
    {
     "name": "stdout",
     "output_type": "stream",
     "text": [
      "Nombre total de combinaisons possibles: 16\n"
     ]
    }
   ],
   "source": [
    "# Générer toutes les combinaisons possibles\n",
    "combinations = list(itertools.product(employment_sectors, employment_backgrounds, public_dealings, degrees))\n",
    "# Vérifier le nombre total de combinaisons\n",
    "print(f\"Nombre total de combinaisons possibles: {len(combinations)}\")"
   ]
  },
  {
   "cell_type": "code",
   "execution_count": 38,
   "id": "5766af26-93fb-47f3-9cb2-1f4c196fca93",
   "metadata": {},
   "outputs": [],
   "source": [
    "# Mélanger les combinaisons et sélectionner 30 valeurs aléatoires\n",
    "random.seed(42)  # Pour la reproductibilité\n",
    "sampled_combinations = random.sample(combinations, 16)"
   ]
  },
  {
   "cell_type": "code",
   "execution_count": 39,
   "id": "ec40981d-03b3-4249-8898-22f7453c3d30",
   "metadata": {},
   "outputs": [
    {
     "name": "stdout",
     "output_type": "stream",
     "text": [
      "   Employment Sector Employment Background Public Dealing Degree\n",
      "0     Private Sector             Technical             No    BSc\n",
      "1     Private Sector             Technical            Yes    MBA\n",
      "2  Government Sector             Technical             No    BSc\n",
      "3     Private Sector         Non-Technical            Yes    MBA\n",
      "4  Government Sector         Non-Technical             No    BSc\n",
      "5  Government Sector         Non-Technical            Yes    BSc\n",
      "6     Private Sector             Technical             No    MBA\n",
      "7     Private Sector             Technical            Yes    BSc\n",
      "8  Government Sector             Technical            Yes    MBA\n",
      "9  Government Sector         Non-Technical            Yes    MBA\n"
     ]
    }
   ],
   "source": [
    "# Créer un DataFrame à partir des combinaisons échantillonnées\n",
    "new_data = pd.DataFrame(sampled_combinations, columns=['Employment Sector', 'Employment Background', 'Public Dealing', 'Degree'])\n",
    "\n",
    "# Afficher les premières lignes du nouveau DataFrame\n",
    "print(new_data.head(10))"
   ]
  },
  {
   "cell_type": "code",
   "execution_count": 40,
   "id": "8ac70141-09b8-435e-b52a-74cf4a6e22d6",
   "metadata": {},
   "outputs": [],
   "source": [
    "# Prétraitement des nouvelles données\n",
    "new_data_encoded_2 = pd.get_dummies(new_data, drop_first=True)"
   ]
  },
  {
   "cell_type": "code",
   "execution_count": 41,
   "id": "1e00ea68-89d1-4e02-8698-db96210655c4",
   "metadata": {},
   "outputs": [],
   "source": [
    "# Aligner les nouvelles données avec les colonnes d'entraînement\n",
    "new_data_encoded_2 = new_data_encoded_2.reindex(columns=X_train.columns, fill_value=0)"
   ]
  },
  {
   "cell_type": "code",
   "execution_count": 42,
   "id": "47073fd4-532a-4b4a-b00d-318a62c48793",
   "metadata": {},
   "outputs": [
    {
     "name": "stdout",
     "output_type": "stream",
     "text": [
      "['More Than 1500K' 'More Than 1500K' '900K-1200K' 'More Than 1500K'\n",
      " '900K-1200K' '900K-1200K' 'More Than 1500K' 'More Than 1500K'\n",
      " 'More Than 1500K' '900K-1200K' '900K-1200K' '900K-1200K'\n",
      " 'More Than 1500K' 'More Than 1500K' 'More Than 1500K' 'More Than 1500K']\n"
     ]
    }
   ],
   "source": [
    "# Prédictions sur les nouvelles données\n",
    "new_predictions_2 = model.predict(new_data_encoded_2)\n",
    "# Afficher les prédictions\n",
    "print(new_predictions_2)"
   ]
  },
  {
   "cell_type": "code",
   "execution_count": 43,
   "id": "0ae5f677-7010-4a96-b1fd-0045adc8f779",
   "metadata": {},
   "outputs": [
    {
     "data": {
      "image/png": "[encoded data removed]",
      "text/plain": [
       "<Figure size 1000x600 with 1 Axes>"
      ]
     },
     "metadata": {},
     "output_type": "display_data"
    }
   ],
   "source": [
    "# Afficher un histogramme\n",
    "plt.figure(figsize=(10, 6))\n",
    "sns.histplot(data=new_predictions_2, kde=True, bins=30)\n",
    "plt.title('Distribution de IdealYearlyIncome')\n",
    "plt.xlabel('IdealYearlyIncome')\n",
    "plt.ylabel('Fréquence')\n",
    "plt.show()"
   ]
  },
  {
   "cell_type": "code",
   "execution_count": null,
   "id": "28cdfbc5-65f3-4502-907d-63ea797bdba1",
   "metadata": {},
   "outputs": [],
   "source": []
  }
 ],
 "metadata": {
  "kernelspec": {
   "display_name": "Python 3 (ipykernel)",
   "language": "python",
   "name": "python3"
  },
  "language_info": {
   "codemirror_mode": {
    "name": "ipython",
    "version": 3
   },
   "file_extension": ".py",
   "mimetype": "text/x-python",
   "name": "python",
   "nbconvert_exporter": "python",
   "pygments_lexer": "ipython3",
   "version": "3.11.7"
  }
 },
 "nbformat": 4,
 "nbformat_minor": 5
}
